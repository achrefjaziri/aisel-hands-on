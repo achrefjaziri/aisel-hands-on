{
 "cells": [
  {
   "cell_type": "markdown",
   "metadata": {},
   "source": [
    "In this notebook we will add  realistic noise effect to images based on a camera nooise model. We follow the blog example at (http://kmdouglass.github.io/posts/modeling-noise-for-image-simulations/ )."
   ]
  },
  {
   "cell_type": "markdown",
   "metadata": {
    "pycharm": {
     "name": "#%% md\n"
    }
   },
   "source": [
    "First we import all necessary packages and set camera constants.\n",
    "These values depend on the camera and in our case we assume an OV2640 CameraChip(tm).\n",
    "Other cameras will have different values for the constants below."
   ]
  },
  {
   "cell_type": "code",
   "execution_count": null,
   "metadata": {
    "pycharm": {
     "name": "#%%\n"
    }
   },
   "outputs": [],
   "source": [
    "import glob\n",
    "import os\n",
    "from skimage import color\n",
    "\n",
    "import OpenEXR\n",
    "import numpy as np\n",
    "from Imath import PixelType\n",
    "from PIL import Image\n",
    "\n",
    "# which file we want to process\n",
    "FILE_ENDING = \".png\"\n",
    "\n",
    "# CAMERA CONSTANTS\n",
    "\n",
    "# the number of always activated sensors for each pixel\n",
    "# this information was not given, just assumed\n",
    "BASELINE_CAMERA = 0\n",
    "\n",
    "# the amount of current per activated sensor\n",
    "SENSITIVITY_CAMERA = 0.6\n",
    "\n",
    "# the color depth for each pixel\n",
    "BIT_DEPTH_CAMERA = 8\n",
    "\n",
    "# the always active current inside a sensor\n",
    "DARK_NOISE_CAMERA = 0.015\n",
    "\n",
    "# the percentage of electrons activating the sensor\n",
    "# assumed to be the same as the camera in the blog post\n",
    "QUANTUM_EFFICIENCY_CAMERA = 0.69"
   ]
  },
  {
   "cell_type": "markdown",
   "metadata": {
    "pycharm": {
     "name": "#%% md\n"
    }
   },
   "source": [
    "We take an 2D array of irradiance values (number of electrons hitting the sensors), simulate a poisson process for the values and add the dark current noise."
   ]
  },
  {
   "cell_type": "code",
   "execution_count": null,
   "metadata": {
    "pycharm": {
     "name": "#%%\n"
    }
   },
   "outputs": [],
   "source": [
    "# Function to add camera noise\n",
    "def add_camera_noise(input_irrad_photons,\n",
    "                     qe=QUANTUM_EFFICIENCY_CAMERA,\n",
    "                     sensitivity=SENSITIVITY_CAMERA,\n",
    "                     dark_noise=DARK_NOISE_CAMERA,\n",
    "                     bitdepth=BIT_DEPTH_CAMERA,\n",
    "                     baseline=BASELINE_CAMERA,\n",
    "                     rs=np.random.RandomState(seed=1234)):\n",
    "\n",
    "    # Add shot noise\n",
    "    # For each pixel, simulate a poission distribution\n",
    "    photons = rs.poisson(input_irrad_photons, size=input_irrad_photons.shape)\n",
    "\n",
    "    # Convert to electrons, since only a percentage of electrons activate the sensors\n",
    "    electrons = qe * photons\n",
    "\n",
    "    # simulate a normal distributed dark current centered around 0 for each pixel\n",
    "    dark_current = rs.normal(scale=dark_noise, size=electrons.shape)\n",
    "\n",
    "    # add both together to get the number of electrons per pixel\n",
    "    electrons_out = dark_current + electrons\n",
    "\n",
    "    max_adu = np.int(2 ** bitdepth - 1)\n",
    "\n",
    "    # each electron\n",
    "    adu = (electrons_out * sensitivity).astype(np.int)\n",
    "    adu += baseline\n",
    "    adu[adu > max_adu] = max_adu  # models pixel saturation\n",
    "\n",
    "    return adu"
   ]
  },
  {
   "cell_type": "markdown",
   "metadata": {
    "pycharm": {
     "name": "#%% md\n"
    }
   },
   "source": [
    "Now we apply the function above to our images. We also need some helper functions to convert images from OpenEXR and save them onto the disk.\n"
   ]
  },
  {
   "cell_type": "code",
   "execution_count": null,
   "metadata": {
    "pycharm": {
     "name": "#%%\n"
    }
   },
   "outputs": [],
   "source": [
    "# converts the openexr float values into the standard  [0, 255] range for colors.\n",
    "# see https://blender.stackexchange.com/questions/65288/convert-openexr-float-to-color-value\n",
    "def norm(val):\n",
    "    return 255 * (val * 12.92 if val <= 0.0031308 else 1.055 * val ** (1.0 / 2.4) - 0.055)\n",
    "norm = np.vectorize(norm) # for easier parallelization\n",
    "\n",
    "# a helper function to save an image\n",
    "def save_image(pixel_data, filename):\n",
    "    img = Image.fromarray(pixel_data.astype(np.uint8), 'RGB')\n",
    "    img.save(filename)\n",
    "\n",
    "\n",
    "def convert_from_exr(file_path):\n",
    "    image = OpenEXR.InputFile(file_path)\n",
    "    W = image.header()[\"displayWindow\"].max.x + 1\n",
    "    H = image.header()[\"displayWindow\"].max.y + 1\n",
    "    pixels = np.zeros((H, W, 3))\n",
    "    datatype = np.float32\n",
    "    if image.header()[\"channels\"][\"R\"].type.v == PixelType.HALF:\n",
    "        datatype = np.float16\n",
    "    pixels[:, :, 0] = np.frombuffer(image.channel('R'), dtype=datatype).reshape((H, W))\n",
    "    pixels[:, :, 1] = np.frombuffer(image.channel('G'), dtype=datatype).reshape((H, W))\n",
    "    pixels[:, :, 2] = np.frombuffer(image.channel('B'), dtype=datatype).reshape((H, W))\n",
    "    pixels = np.clip(pixels, 0, 1)\n",
    "    pixels = norm(pixels)\n",
    "    return pixels\n",
    "\n",
    "def convert_from_png(file_path):\n",
    "    image = Image.open(file_path)\n",
    "    pixels = list(image.getdata())\n",
    "    width, height = image.size\n",
    "    pixels = np.array([pixels[i * width:(i + 1) * width] for i in range(height)])\n",
    "    return pixels\n",
    "\n",
    "def add_noise_to_image(file_path):\n",
    "    # this part is to convert OpenEXR images from their format into a 2D-Array of RGB values from 0-255.OpenEXR\n",
    "    # If other image formats are used, this is not be necessary\n",
    "    # In that case, use the function convert_from_png or write a similar function for other image formats\n",
    "    #pixel_data = convert_from_exr(file_path)\n",
    "    pixel_data = convert_from_png(file_path)\n",
    "\n",
    "    # calculate number of electrons hitting the sensor and apply noise model\n",
    "    number_of_electrons_per_pixel = pixel_data / QUANTUM_EFFICIENCY_CAMERA / SENSITIVITY_CAMERA\n",
    "    noisy_pixels = add_camera_noise(number_of_electrons_per_pixel)\n",
    "\n",
    "    # save the clean and the noisy image as PNG next to the original version\n",
    "    clean_file_name = file_path.replace(FILE_ENDING, \"_clean.png\")\n",
    "    save_image(pixel_data, clean_file_name)\n",
    "\n",
    "    noisy_file_name = file_path.replace(FILE_ENDING, \"_noisy.png\")\n",
    "    save_image(noisy_pixels, noisy_file_name)\n",
    "\n",
    "# we take every image in the current directory ending with \".exr\" and apply our noise model\n",
    "for file in glob.glob(f\"*{FILE_ENDING}\"):\n",
    "    print(file)\n",
    "    add_noise_to_image(file_path=file)\n",
    "print(\"EMD\")"
   ]
  }
 ],
 "metadata": {
  "kernelspec": {
   "display_name": "Python 3",
   "language": "python",
   "name": "python3"
  },
  "language_info": {
   "codemirror_mode": {
    "name": "ipython",
    "version": 3
   },
   "file_extension": ".py",
   "mimetype": "text/x-python",
   "name": "python",
   "nbconvert_exporter": "python",
   "pygments_lexer": "ipython3",
   "version": "3.8.2"
  }
 },
 "nbformat": 4,
 "nbformat_minor": 1
}
