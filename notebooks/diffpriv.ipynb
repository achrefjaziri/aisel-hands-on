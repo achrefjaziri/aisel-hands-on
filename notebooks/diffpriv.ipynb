{
 "cells": [
  {
   "cell_type": "markdown",
   "metadata": {},
   "source": [
    "# Local differential privacy for privacy-preserving data analysis.\n"
   ]
  },
  {
   "cell_type": "code",
   "execution_count": 1,
   "metadata": {},
   "outputs": [],
   "source": [
    "import math\n",
    "import numpy as np\n",
    "import pandas as pd\n",
    "import numpy.random as npr\n",
    "import itertools as it\n",
    "import matplotlib.pyplot as plt\n",
    "from IPython.display import display, HTML\n",
    "\n",
    "npr.seed(2)"
   ]
  },
  {
   "cell_type": "markdown",
   "metadata": {},
   "source": [
    "## Task 1: Randomised response.\n",
    "\n",
    "Let us consider the so-called \"randomised response\" mechanism for collecting responses to a potentially embarrassing or private question. In this mechanism, the respondents are instructed to as follows:\n",
    "\n",
    "1. Flip a coin.\n",
    "2. If **tails**, then respond truthfully.\n",
    "3. If **heads**, then flip a second coin and respond *Yes* if heads and *No* if tails.\n",
    "\n",
    "i. Calculate the probability of the randomised response being \"yes\" and the probability of the randomised response being \"no\", conditional to true response being \"yes\"/\"no\".\n",
    "\n",
    "ii. Verify that this mechanism satisfies local $\\epsilon$-DP with $\\epsilon = \\ln 3$.\n",
    "\n",
    "iii. Assuming a population of independent respondents who have the probability $\\pi$ to answer yes. Design a method to estimate $\\pi$ from the noisy responses. Simulate the mechanism with $n$ participants for $n = 10, 100, 1000, 10000$ with $\\pi = 0.01, 0.1$. How accurately can you estimate $\\pi$ in the different cases?\n"
   ]
  },
  {
   "cell_type": "markdown",
   "metadata": {},
   "source": [
    "I.  \n",
    "$Pr(yes|truth=yes) = Pr(yes,random|truth=yes) + Pr(yes,non-random|truth=yes) = $  \n",
    "$Pr(yes|random)Pr(coin = random) + Pr(yes|truth=yes,coin=non-random)Pr(coin=non-random) =  $  \n",
    "$0.5\\cdot0.5 + 1 \\cdot0.5 = 0.75$\n",
    "\n",
    "Similarly, $Pr(no|truth=yes) = 0.25$, $Pr(no|truth=no) = 0.75$, $Pr(yes|truth=no) = 0.25$."
   ]
  },
  {
   "cell_type": "markdown",
   "metadata": {},
   "source": [
    "II.  \n",
    "\n",
    "$\\frac{Pr(yes|truth=yes)}{Pr(yes|truth=no)}= 3 \\leq e^{\\epsilon} \\Leftrightarrow \\ln(3) \\leq \\epsilon$"
   ]
  },
  {
   "cell_type": "code",
   "execution_count": 2,
   "metadata": {},
   "outputs": [
    {
     "name": "stdout",
     "output_type": "stream",
     "text": [
      "P(yes | truth = yes) = 0.75, P(no | truth = yes) = 0.25\n",
      "P(no | truth = no) = 0.75, P(yes | truth = no) = 0.25\n"
     ]
    }
   ],
   "source": [
    "#i) Monte Carlo simulation\n",
    "n = 10000\n",
    "\n",
    "truth = 'yes'\n",
    "random_choice = np.where(npr.uniform(size=n)>0.5, 'yes', 'no')\n",
    "choice = np.where(npr.uniform(size=n)>0.5, truth, random_choice)\n",
    "ctr = (choice==truth).sum()\n",
    "print(f'P({truth} | truth = {truth}) = {ctr/n:.2f}, P({\"no\" if truth == \"yes\" else \"yes\"} | truth = {truth}) = {(n-ctr)/n:.2f}')\n",
    "\n",
    "truth = 'no'\n",
    "random_choice = np.where(npr.uniform(size=n)>0.5, 'yes', 'no')\n",
    "choice = np.where(npr.uniform(size=n)>0.5, truth, random_choice)\n",
    "ctr = (choice==truth).sum()\n",
    "print(f'P({truth} | truth = {truth}) = {ctr/n:.2f}, P({\"no\" if truth == \"yes\" else \"yes\"} | truth = {truth}) = {(n-ctr)/n:.2f}')"
   ]
  },
  {
   "cell_type": "code",
   "execution_count": 3,
   "metadata": {},
   "outputs": [
    {
     "data": {
      "text/plain": [
       "0.7511"
      ]
     },
     "execution_count": 3,
     "metadata": {},
     "output_type": "execute_result"
    }
   ],
   "source": [
    "truth = 'yes'\n",
    "random_choice = np.where(npr.uniform(size=n)>0.5, 'yes', 'no')\n",
    "choice = np.where(npr.uniform(size=n)>0.5, truth, random_choice)\n",
    "(choice==truth).sum()/n"
   ]
  },
  {
   "cell_type": "code",
   "execution_count": 4,
   "metadata": {},
   "outputs": [],
   "source": [
    "#ii)"
   ]
  },
  {
   "cell_type": "markdown",
   "metadata": {},
   "source": [
    "$$ \\frac{\\mathcal{P}(\\text{yes}|\\text{truth=yes})}{\\mathcal{P}(\\text{yes}|\\text{truth=no})} = \\frac{0.5\\cdot (1_{truth} + 0.5\\cdot(0+1_{truth}))}{0.5\\cdot(0_{truth}+0.5\\cdot(1+0_{truth}))} = e^{\\epsilon} = 3 \\Leftrightarrow \\epsilon = \\ln(3) $$"
   ]
  },
  {
   "cell_type": "code",
   "execution_count": 5,
   "metadata": {
    "scrolled": true
   },
   "outputs": [
    {
     "name": "stdout",
     "output_type": "stream",
     "text": [
      "n: 10, pi: 0.01, estimate: 1.30\n",
      "n: 100, pi: 0.01, estimate: 0.90\n",
      "n: 1000, pi: 0.01, estimate: 0.99\n",
      "n: 10000, pi: 0.01, estimate: 0.98\n",
      "n: 10, pi: 0.1, estimate: 0.90\n",
      "n: 100, pi: 0.1, estimate: 1.00\n",
      "n: 1000, pi: 0.1, estimate: 0.88\n",
      "n: 10000, pi: 0.1, estimate: 0.91\n"
     ]
    }
   ],
   "source": [
    "#iii)\n",
    "n_, pi_ = [10, 100, 1000, 10000], [0.01, 0.1]\n",
    "for pi, n in it.product(pi_, n_):\n",
    "    truth = np.where(npr.uniform(size=n)>pi, 'yes', 'no')\n",
    "    random = np.where(npr.uniform(size=n)>0.5, 'yes', 'no')\n",
    "    choice = np.where(npr.uniform(size=n)>0.5, truth, random)\n",
    "    i = (choice=='yes').sum()\n",
    "    print(f'n: {n}, pi: {pi}, estimate: {max(round((i/n-.25)*2,4),0):.2f}')"
   ]
  },
  {
   "cell_type": "markdown",
   "metadata": {},
   "source": [
    "For the $\\pi = 0.1$ even low numbers of samples are sufficient to be rather close to the true value; whereas even 10000 samples do not suffice to be within a $+- 10\\%$ bound."
   ]
  },
  {
   "cell_type": "markdown",
   "metadata": {},
   "source": [
    "## Task 2: Generalising randomised response\n",
    "\n",
    "Consider a generalised randomised response mechanism, where each person flips $k$ coins in step 1 and responds truthfully if either  \n",
    "i. all of them display tails  \n",
    "ii. any one of them displays tails.\n",
    "\n",
    "Verify that both of these produce $\\epsilon$-DP mechanisms for each $k$. Evaluate and plot $\\epsilon$ as a function of $k$ for each case and $k = 1, \\dots, 10$."
   ]
  },
  {
   "cell_type": "markdown",
   "metadata": {},
   "source": [
    "Verification.  \n",
    "Case 1:  \n",
    "$Pr(yes|truth=yes) = 0.5^{k} + (1-0.5^{k})\\cdot 0.5 = 0.5(0.5^{k} + 1)$, using symmetry properties:\n",
    "$Pr(yes|truth=no) = 1 - Pr(yes|truth=yes)$  \n",
    "$\\frac{Pr(yes|truth=yes)}{Pr(yes|truth=no)} = \n",
    "\\frac{0.5(0.5^{k} + 1)}{1-(0.5(0.5^{k} + 1))} = \n",
    "\\frac{0.5(0.5^{k} + 1)}{1-(0.5^{k}0.5 - 0.5)} = \n",
    "\\frac{0.5(0.5^{k} + 1)}{0.5(1-0.5^{k})} = \n",
    "\\frac{0.5^{k} + 1}{1-0.5^{k}} \n",
    "\\leq \n",
    "e^{\\epsilon}$  \n",
    "Obviously, this produces an $\\epsilon$-DP mechanisms for each $k$, where privacy increases ($\\epsilon$ decreases) with increasing $k$."
   ]
  },
  {
   "cell_type": "markdown",
   "metadata": {},
   "source": [
    "Case 2: Inversion of case 1 given symmetric probabilities of tails and heads.  \n",
    "$Pr(yes|truth=yes) = (1-0.5^{k}) + 0.5^{k}\\cdot 0.5 = 1+0.5^{k}(0.5-1) =1-0.5\\cdot 0.5^{k}$\n",
    ", using symmetry properties:\n",
    "$Pr(yes|truth=no) = 1 - Pr(yes|truth=yes)$  \n",
    "$\\frac{Pr(yes|truth=yes)}{Pr(yes|truth=no)} = \n",
    "\\frac{1-0.5\\cdot 0.5^{k}}{1-(1-0.5\\cdot 0.5^{k})} = \n",
    "\\frac{1-0.5\\cdot 0.5^{k}}{0.5\\cdot 0.5^{k}} =\n",
    "\\frac{2-0.5^{k}}{0.5^{k}} \\leq e^{\\epsilon}$  \n",
    "Obviously, this produces an $\\epsilon$-DP mechanisms for each $k$, where privacy decreases ($\\epsilon$ increases) with increasing $k$."
   ]
  },
  {
   "cell_type": "code",
   "execution_count": 6,
   "metadata": {},
   "outputs": [],
   "source": [
    "def p_random(k, mode='i'):\n",
    "    if mode=='i':\n",
    "        return 1-.5**k\n",
    "    if mode=='ii':\n",
    "        return 1-(1-.5**k) #ofc could be just .5**k"
   ]
  },
  {
   "cell_type": "code",
   "execution_count": 7,
   "metadata": {},
   "outputs": [
    {
     "data": {
      "image/png": "[encoded data removed]",
      "text/plain": [
       "<Figure size 432x288 with 1 Axes>"
      ]
     },
     "metadata": {
      "needs_background": "light"
     },
     "output_type": "display_data"
    }
   ],
   "source": [
    "vec_random = np.vectorize(p_random)\n",
    "x = np.arange(1,11)\n",
    "y = (1-vec_random(x)) + vec_random(x)*0.5\n",
    "eps = y/(1-y)\n",
    "eps = np.log(eps)\n",
    "\n",
    "\n",
    "fig, ax = plt.subplots()\n",
    "ax.plot(x,eps, label = 'Mode i')\n",
    "ax.set(xlabel='k', ylabel='eps',\n",
    "       title='Epsilon given k.')\n",
    "ax.grid()\n",
    "ax.legend()\n",
    "plt.show()"
   ]
  },
  {
   "cell_type": "code",
   "execution_count": 8,
   "metadata": {},
   "outputs": [
    {
     "data": {
      "image/png": "[encoded data removed]",
      "text/plain": [
       "<Figure size 432x288 with 1 Axes>"
      ]
     },
     "metadata": {
      "needs_background": "light"
     },
     "output_type": "display_data"
    }
   ],
   "source": [
    "vec_random = np.vectorize(p_random)\n",
    "x = np.arange(1,11)\n",
    "y = (1-vec_random(x,mode='ii')) + vec_random(x,mode='ii')*0.5\n",
    "eps = y/(1-y)\n",
    "eps = np.log(eps)\n",
    "\n",
    "fig, ax = plt.subplots()\n",
    "ax.plot(x,eps, label = 'Mode ii')\n",
    "ax.set(xlabel='k', ylabel='eps',\n",
    "       title='Epsilon given k.')\n",
    "ax.grid()\n",
    "ax.legend()\n",
    "plt.show()"
   ]
  },
  {
   "cell_type": "markdown",
   "metadata": {},
   "source": [
    "## Task 3: How much money do you have on your bank account?\n",
    "\n",
    "To answer a question about a scalar value, we need a different mechanism. Here we use the Laplace mechanism, which works as follows:\n",
    "\n",
    "* Evaluate the *sensitivity* of the function $f$ of interest:\n",
    "$$ \\Delta f = \\max\\limits_{\\mathcal{D} \\sim \\mathcal{D}'} | f(\\mathcal{D}) - f(\\mathcal{D}') |, $$\n",
    "where $\\mathcal{D} \\sim \\mathcal{D}'$ denotes pairs of data sets that differ by a single sample.\n",
    "* Compute $\\mathcal{M}(\\mathcal{D}) = f(\\mathcal{D}) + \\frac{\\Delta f}{\\epsilon} \\eta$\n",
    "where $\\eta \\sim \\operatorname{Laplace}(0, 1)$\n",
    "\n",
    "In this exercise we apply the Laplace mechanism in locally differentially private mode, i.e. each individual is assumed to form a different single-observation data set that is protected using this mechanism.\n",
    "\n",
    "In order to estimate the mean of the distribution of data held by the users, we can use the following moment identities with $x$ denoting the user data and $z$ denoting the Laplace noise added for DP:\n",
    "$$ \\mathrm{E}[x + z] = \\mathrm{E}[x] + \\mathrm{E}[z], $$\n",
    "$$ \\mathrm{Var}[x + z] = \\mathrm{Var}[x] + \\mathrm{Var}[z]. $$\n",
    "\n",
    "i) What is the probability $Pr(\\mathcal{M}(\\mathcal{D})=s)$ for some outcome $s$? Also, find the ratio $\\frac{Pr(\\mathcal{M}(\\mathcal{D})=s)}{Pr(\\mathcal{M}(\\mathcal{D}')=s)}$.\n",
    "\n",
    "ii) (Optional) Verify that this mechanism satisfies $\\epsilon$-DP.\n",
    "\n",
    "iii) Assuming a population of independent respondents whose bank account balances follow the exponential distribution $\\mathrm{Exp}(\\lambda)$ with $\\lambda = 1/5000$. Simulate the mechanism for $n$ participants with $n = 10, 100, 1000, 10000$. How accurately can you estimate the mean and the standard deviation of the bank account balance distribution?\n",
    "Repeat each simulation 100 times to get an idea of the accuracy.\n",
    "\n",
    "Hint: you will need to set an upper bound on the allowed balances to get a bounded sensitivity. Larger values can be handled e.g. by setting them to the maximum. In order to guarantee DP, this bound should be selected independently of the actual data at hand. (Mechanisms that do not require such an a priori bound exist, but are more complicated. If you are interested, see e.g. https://dl.acm.org/citation.cfm?id=1250803.)\n"
   ]
  },
  {
   "cell_type": "code",
   "execution_count": 9,
   "metadata": {},
   "outputs": [
    {
     "data": {
      "text/html": [
       "<table border=\"1\" class=\"dataframe\">\n",
       "  <thead>\n",
       "    <tr style=\"text-align: right;\">\n",
       "      <th></th>\n",
       "      <th>n</th>\n",
       "      <th>True Mean</th>\n",
       "      <th>True Std.</th>\n",
       "      <th>Noisy Mean</th>\n",
       "      <th>Noisy Std.</th>\n",
       "      <th>Estimated Std.</th>\n",
       "    </tr>\n",
       "  </thead>\n",
       "  <tbody>\n",
       "    <tr>\n",
       "      <th>0</th>\n",
       "      <td>10.0</td>\n",
       "      <td>5052.18</td>\n",
       "      <td>4303.96</td>\n",
       "      <td>5416.01</td>\n",
       "      <td>13773.56</td>\n",
       "      <td>3773.56</td>\n",
       "    </tr>\n",
       "    <tr>\n",
       "      <th>1</th>\n",
       "      <td>100.0</td>\n",
       "      <td>4996.74</td>\n",
       "      <td>4898.50</td>\n",
       "      <td>4966.94</td>\n",
       "      <td>14579.81</td>\n",
       "      <td>4579.81</td>\n",
       "    </tr>\n",
       "    <tr>\n",
       "      <th>2</th>\n",
       "      <td>1000.0</td>\n",
       "      <td>4983.62</td>\n",
       "      <td>4988.29</td>\n",
       "      <td>5032.42</td>\n",
       "      <td>14932.69</td>\n",
       "      <td>4932.69</td>\n",
       "    </tr>\n",
       "    <tr>\n",
       "      <th>3</th>\n",
       "      <td>10000.0</td>\n",
       "      <td>4997.40</td>\n",
       "      <td>4991.35</td>\n",
       "      <td>4998.94</td>\n",
       "      <td>15011.66</td>\n",
       "      <td>5011.66</td>\n",
       "    </tr>\n",
       "  </tbody>\n",
       "</table>"
      ],
      "text/plain": [
       "<IPython.core.display.HTML object>"
      ]
     },
     "metadata": {},
     "output_type": "display_data"
    }
   ],
   "source": [
    "np.random.seed(6)\n",
    "\n",
    "simulations = 100\n",
    "participants = [10, 100, 1000, 10000]\n",
    "inv_scale = 1/5000\n",
    "eps = 10\n",
    "upper_bound = 100000\n",
    "lower_bound = 0\n",
    "mu = sensitivity = upper_bound-lower_bound\n",
    "report = pd.DataFrame()\n",
    "\n",
    "for n in participants:\n",
    "    D = npr.exponential(scale = 1/inv_scale, size=(n,simulations))\n",
    "    np.clip(D,lower_bound,upper_bound)\n",
    "    avg_, std_ = D.mean(axis=0), D.std(axis=0)\n",
    "\n",
    "    eta = npr.laplace(loc=0.0, scale=1.0, size=(n,simulations))\n",
    "    D = npr.exponential(scale = 1/inv_scale, size=(n,simulations))\n",
    "    D += (mu/eps)*eta\n",
    "    np.clip(D,lower_bound,upper_bound)\n",
    "    avg, std = D.mean(axis=0), D.std(axis=0)\n",
    "    report = report.append(pd.Series([n,avg_.mean(),std_.mean(),avg.mean(),std.mean(),std.mean()-mu/eps]),ignore_index=True)\n",
    "    \n",
    "report.columns = ['n','True Mean', 'True Std.', 'Noisy Mean', 'Noisy Std.', 'Estimated Std.']\n",
    "display(HTML(report.round(2).to_html()))"
   ]
  },
  {
   "cell_type": "markdown",
   "metadata": {},
   "source": [
    "The first row reports the difference between the mean of the actual data and the mean of 100 simulated added-noise data set means as well as its deviations.  \n",
    "The actual mean and the mean of 100 means is reported below.  \n",
    "The third row reports the two drifferent standard deviations in the same manner.  \n",
    "The fourth row shows the estimated standard deviation of the noisy dataset, where sensitivity and $\\epsilon$ information\n",
    "is used to gauge the noise variance. The mean of 100 data sets is reported. Furthermore the variation of the estimated standard deviation is reported as well.\n",
    "\n",
    "The mean approaches the true mean rather quick over multiple simulations, the bias standard deviation shows that only with n=10000, the value becomes somewhat stable and small. (Standard deviation reflects less than 10\\% of the actual value) As the noise just adds a fixed variance, the estimate is pretty accurate over multiple simulations right away, but for stability reasons needs a bit to approach acceptable levels (n=1000). Obviously, if we would not have any information regarding the sensitivity/epsilon used, we could not converge towards the true variation in the data (obviously?).\n"
   ]
  },
  {
   "cell_type": "markdown",
   "metadata": {},
   "source": [
    "i)  \n",
    "$$Pr(\\mathcal{M}(\\mathcal{D})=s) = \n",
    "Pr(f(\\mathcal{D}) + \\frac{\\Delta f}{\\epsilon} \\eta=s) = \n",
    "Pr(\\eta = \\frac{\\epsilon}{\\Delta f}(s - f(\\mathcal{D})), \\eta \\sim \\operatorname{Laplace}(0, 1)$$  \n",
    "$$Pr\\left(\\eta = \\frac{\\epsilon}{\\Delta f}(s - f(\\mathcal{D}))\\right) = \n",
    "{\\displaystyle {\\frac {1}{2}}\\exp \\left(-{\\frac {|\\epsilon}{\\Delta f}(s - f(\\mathcal{D}) |}\\right)}$$\n",
    "$$\\frac{Pr(\\eta = \\frac{\\epsilon}{\\Delta f}(s - f(\\mathcal{D}))}{Pr(\\eta = \\frac{\\epsilon}{\\Delta f}(s - f(\\mathcal{D'}))} =   \n",
    "\\frac{{\\displaystyle \\exp \\left(-|\\frac{\\epsilon}{\\Delta f}(s - f(\\mathcal{D})) |\\right)}}\n",
    "{{\\displaystyle \\exp \\left(-|\\frac{\\epsilon}{\\Delta f}(s - f(\\mathcal{D'})) |\\right)}} $$\n",
    "$$= {\\displaystyle \\exp \\left(-|\\frac{\\epsilon}{\\Delta f}(s - f(\\mathcal{D})) | + |\\frac{\\epsilon}{\\Delta f}(s - f(\\mathcal{D'})) |\\right)} $$\n",
    "$$= {\\displaystyle \\exp \\left(\\frac{\\epsilon}{\\Delta f}\\left(|s - f(\\mathcal{D'}) | - |s - f(\\mathcal{D}) |\\right)\\right)} $$\n",
    "$$ = {\\displaystyle \\exp \\left(\\frac{\\epsilon}{\\Delta f}\\left(f(\\mathcal{D}) - f(\\mathcal{D'}) \\right)\\right)}$$\n",
    "\n",
    "ii)\n",
    "\n",
    "$${\\displaystyle \\exp \\left(\\frac{\\epsilon}{\\Delta f}\\left(f(\\mathcal{D}) - f(\\mathcal{D'}) \\right)\\right)} \\leq \\exp(\\epsilon) $$  \n",
    "$$ \\Leftrightarrow {\\displaystyle           \\frac{\\epsilon}{\\Delta f}\\left(f(\\mathcal{D}) - f(\\mathcal{D'}) \\right)} \\leq \\epsilon$$  \n",
    "$$ \\Leftrightarrow {\\displaystyle           \\frac{\\left(f(\\mathcal{D}) - f(\\mathcal{D'}) \\right)}{\\Delta f}} \\leq 1$$  \n",
    "$$ \\Leftrightarrow {\\displaystyle           \\frac{\\left(f(\\mathcal{D}) - f(\\mathcal{D'}) \\right)}{\\max\\limits_{\\mathcal{D} \\sim \\mathcal{D}'} | f(\\mathcal{D}) - f(\\mathcal{D}') |}} \\leq 1$$  \n",
    "\n",
    "By definition the following is true:\n",
    "$$ {\\displaystyle f(\\mathcal{D}) - f(\\mathcal{D'}) \\leq \\max\\limits_{\\mathcal{D} \\sim \\mathcal{D}'} | f(\\mathcal{D}) - f(\\mathcal{D}') |}$$\n",
    "<div align='right'>$\\square$</div>"
   ]
  },
  {
   "cell_type": "markdown",
   "metadata": {},
   "source": [
    "## Task 4: Does your age affect your account balance?\n",
    "\n",
    "We can apply the Laplace mechanism to fit a linear regression model to model the bank account balance as a function of age. We know that the respondents are of age 20-70 years and their account balances are at most 150000.\n",
    "\n",
    "Linear regression fit to scalar $x_i, y_i$ involves fitting the model\n",
    "$$ y_i = \\alpha + \\beta x_i + \\epsilon_i, $$\n",
    "where $\\beta$ is the regression coefficient and $\\alpha$ is the intercept. Assuming regression errors $\\epsilon_i$ are normally distributed, the maximum likelihood estimates of the parameters are\n",
    "$$ \\hat{\\beta}= \\frac{\\sum_{i = 1}^n (x_i - \\bar{x})(y_i - \\bar{y}) }{ \\sum_{i = 1}^n (x_i - \\bar{x})^2} \\\\\n",
    "   \\hat{\\alpha} = \\bar{y} - \\hat{\\beta} \\bar{x},$$\n",
    "where $\\bar{x} = \\frac{1}{n} \\sum_{i = 1}^n x_i$ and $\\bar{y} = \\frac{1}{n} \\sum_{i = 1}^n y_i$.\n",
    "\n",
    "i. Use the data in \"balances.csv\" loaded below, and release $x$ (the age) and $y$ (the bank account balance) using Laplace mechanism with total privacy loss $\\epsilon=1$ and fit the regression model to the noisy data. Repeat the process 100 times and evaluate how the model compares with one learned from clean data. Because you are releasing the composition of two queries, you will need to use $\\epsilon/2$ as the $\\epsilon$ for each query to reach total privacy loss of $\\epsilon$.\n",
    "\n",
    "ii. Design a two-step protocol that first estimates the means $\\bar{x}$ and $\\bar{y}$, and then uses these to release the terms $(x_i - \\bar{x}) (y_i - \\bar{y})$, $(x_i - \\bar{x})^2$ using the Laplace mechanism. Fit the regression model using the noisy information. Compare with the above. In order to make the results comparable, the total privacy loss should be $\\epsilon=1$. Because you are releasing the composition of four queries, you will need to use $\\epsilon/4$ as the $\\epsilon$ for each query to reach total privacy loss of $\\epsilon$.\n",
    "\n",
    "iii. Repeat the above cases with total privacy loss $\\epsilon = 10$ and compare the results.\n",
    "\n",
    "Hint: you can use the known range of values of $x$ and $y$ to bound the sensitivites. For the two-step protocol, you can also use the published private means $\\bar{x}$ and $\\bar{y}$ to evaluate the sensitivity for the second step, as long as you do not use any other features of the specific data set.\n",
    "\n",
    "Comment: a better solution would take into account the knowledge of the noise added. Developing algorithms like this is in many cases still an open research problem. Furthermore, the privacy budget can be split between different queries arbitrarily, not necessarily evenly like here."
   ]
  },
  {
   "cell_type": "code",
   "execution_count": 10,
   "metadata": {},
   "outputs": [],
   "source": [
    "data = pd.read_csv('../data/balances.csv', header=0, index_col=0)\n",
    "\n",
    "x = data.values[:,0]\n",
    "y = data.values[:,1]\n",
    "N = len(data)\n",
    "eps = 1\n",
    "#dF_x = x.max() - x.min()\n",
    "#dF_y = y.max() - y.min()\n",
    "dF_x = 50\n",
    "dF_y = 100000"
   ]
  },
  {
   "cell_type": "markdown",
   "metadata": {},
   "source": [
    "i. Use the data in \"balances.csv\" loaded below, and release $x$ (the age) and $y$ (the bank account balance) using Laplace mechanism with total privacy loss $\\epsilon=1$ and fit the regression model to the noisy data. Repeat the process 100 times and evaluate how the model compares with one learned from clean data. Because you are releasing the composition of two queries, you will need to use $\\epsilon/2$ as the $\\epsilon$ for each query to reach total privacy loss of $\\epsilon$."
   ]
  },
  {
   "cell_type": "code",
   "execution_count": 11,
   "metadata": {},
   "outputs": [],
   "source": [
    "b, a = [], []\n",
    "np.random.seed(1)\n",
    "for _ in range(100):\n",
    "    x_prv = x + npr.laplace(0,1,size=N)*(dF_x/(eps/2))\n",
    "    y_prv = y + npr.laplace(0,1,size=N)*(dF_y/(eps/2))\n",
    "    #y_prv = np.clip(y_prv, -150000, 150000)\n",
    "    b_hat = sum((x_prv-x_prv.mean())*(y_prv-y_prv.mean()))/sum((x_prv-x_prv.mean())**2)\n",
    "    a_hat = y_prv.mean() - b_hat*x_prv.mean()\n",
    "    b.append(b_hat)\n",
    "    a.append(a_hat)"
   ]
  },
  {
   "cell_type": "code",
   "execution_count": 12,
   "metadata": {},
   "outputs": [
    {
     "name": "stdout",
     "output_type": "stream",
     "text": [
      "Estimated parameters on privatized data (100 runs):\n",
      "beta: 15.14 with sd: 62.21139294190902\n",
      "alpha: 49514.46 with sd: 10198.189293584526\n"
     ]
    }
   ],
   "source": [
    "b_hat = np.mean(b)\n",
    "a_hat = np.mean(a)\n",
    "b_hat, a_hat \n",
    "print(f'Estimated parameters on privatized data (100 runs):')\n",
    "print(f'beta: {round(b_hat,2)} with sd: {np.std(b)}')\n",
    "print(f'alpha: {round(a_hat,2)} with sd: {np.std(a)}')"
   ]
  },
  {
   "cell_type": "code",
   "execution_count": 13,
   "metadata": {},
   "outputs": [
    {
     "name": "stdout",
     "output_type": "stream",
     "text": [
      "Estimated parameters on disclosed data.\n",
      "beta: 1146.96\n",
      "alpha: -1776.36\n"
     ]
    }
   ],
   "source": [
    "b_hat = sum((x-x.mean())*(y-y.mean()))/sum((x-x.mean())**2)\n",
    "a_hat = y.mean() - b_hat*x.mean()\n",
    "print(f'Estimated parameters on disclosed data.')\n",
    "print(f'beta: {round(b_hat,2)}')\n",
    "print(f'alpha: {round(a_hat,2)}')"
   ]
  },
  {
   "cell_type": "markdown",
   "metadata": {},
   "source": [
    "ii. Design a two-step protocol that first estimates the means $\\bar{x}$ and $\\bar{y}$, and then uses these to release the terms $(x_i - \\bar{x}) (y_i - \\bar{y})$, $(x_i - \\bar{x})^2$ using the Laplace mechanism. Fit the regression model using the noisy information. Compare with the above. In order to make the results comparable, the total privacy loss should be $\\epsilon=1$. Because you are releasing the composition of four queries, you will need to use $\\epsilon/4$ as the $\\epsilon$ for each query to reach total privacy loss of $\\epsilon$."
   ]
  },
  {
   "cell_type": "code",
   "execution_count": 14,
   "metadata": {},
   "outputs": [],
   "source": [
    "x_ = x.mean()\n",
    "y_ = y.mean()\n",
    "data = data.assign(cvar=lambda x: (x.Age-x_)*(x.Balance-y_), \n",
    "                   xvar=lambda x: (x.Age-x_)**2)\n",
    "cvar = data.values[:,2]\n",
    "xvar = data.values[:,3]\n",
    "eps = 1\n",
    "dF_cvar = cvar.max() - cvar.min()\n",
    "dF_xvar = xvar.max() - xvar.min()\n",
    "#dF_x = x.max() - x.min()\n",
    "#dF_y = y.max() - y.min()\n",
    "dF_x = 50\n",
    "dF_y = 100000"
   ]
  },
  {
   "cell_type": "code",
   "execution_count": 15,
   "metadata": {},
   "outputs": [],
   "source": [
    "b, a = [], []\n",
    "np.random.seed(111)\n",
    "for _ in range(100):\n",
    "    cvar_prv = cvar + npr.laplace(0,1,size=N)*(dF_cvar/(eps/4))\n",
    "    xvar_prv = xvar + npr.laplace(0,1,size=N)*(dF_xvar/(eps/4))\n",
    "    x_prv = x + npr.laplace(0,1,size=N)*(dF_x/(eps/4))\n",
    "    y_prv = y + npr.laplace(0,1,size=N)*(dF_y/(eps/4))\n",
    "    y_prv = np.clip(y_prv, -150000, 150000)\n",
    "    b_hat = sum(cvar_prv)/sum(xvar_prv)\n",
    "    a_hat = y_prv.mean() - b_hat*x_prv.mean()\n",
    "    b.append(b_hat)\n",
    "    a.append(a_hat)\n",
    "\n"
   ]
  },
  {
   "cell_type": "code",
   "execution_count": 16,
   "metadata": {},
   "outputs": [
    {
     "name": "stdout",
     "output_type": "stream",
     "text": [
      "beta: 825.016762953705 with sd: 6763.371942541809\n",
      "alpha: -12245.576410486377 with sd: 356387.0963511269\n",
      "Empirical estimates\n",
      "beta: 1146.96\n",
      "alpha: -1776.36\n"
     ]
    }
   ],
   "source": [
    "b_hat = np.mean(b)\n",
    "a_hat = np.mean(a)\n",
    "print(f'beta: {b_hat} with sd: {np.std(b)}')\n",
    "print(f'alpha: {a_hat} with sd: {np.std(a)}')\n",
    "print(f'Empirical estimates')\n",
    "print(f'beta: 1146.96')\n",
    "print(f'alpha: -1776.36')"
   ]
  },
  {
   "cell_type": "markdown",
   "metadata": {},
   "source": [
    "Both estimations are far off compared to the original data, yet when adding noise to the Age and Balance directly and doing the estimation on those like in case 1, the estimations on the beta are far too concentrated and most is captured by the alpha.\n",
    "With the 2-step approach, adding the noise to the (co-)variance, both estimates are fairly unconcentrated which at least does not give a false sense of accuracy."
   ]
  },
  {
   "cell_type": "markdown",
   "metadata": {},
   "source": [
    "iii. Repeat the above cases with total privacy loss $\\epsilon = 10$ and compare the results."
   ]
  },
  {
   "cell_type": "code",
   "execution_count": 17,
   "metadata": {},
   "outputs": [
    {
     "name": "stdout",
     "output_type": "stream",
     "text": [
      "private beta: 911.99 with sd: 59.88864771668498\n",
      "private alpha: 8804.88 with sd: 2777.5948511889064\n",
      "`true` beta: 1146.96\n",
      "`true` alpha: -1776.36\n"
     ]
    }
   ],
   "source": [
    "data = pd.read_csv('../data/balances.csv', header=0, index_col=0)\n",
    "\n",
    "x = data.values[:,0]\n",
    "y = data.values[:,1]\n",
    "N = len(data)\n",
    "eps = 10\n",
    "#df_x = x.max() - x.min()\n",
    "#df_y = y.max() - y.min()\n",
    "dF_x = 25\n",
    "dF_y = 100000\n",
    "b, a = [], []\n",
    "np.random.seed(42)\n",
    "for _ in range(100):\n",
    "    x_prv = x + npr.laplace(0,1,size=N)*(dF_x/(eps/2))\n",
    "    y_prv = y + npr.laplace(0,1,size=N)*(dF_y/(eps/2))\n",
    "    #y_prv = np.clip(y_prv, -150000, 150000)\n",
    "    b_hat = sum((x_prv-x_prv.mean())*(y_prv-y_prv.mean()))/sum((x_prv-x_prv.mean())**2)\n",
    "    a_hat = y_prv.mean() - b_hat*x_prv.mean()\n",
    "    b.append(b_hat)\n",
    "    a.append(a_hat)\n",
    "b_hat = np.mean(b)\n",
    "a_hat = np.mean(a)\n",
    "b_hat, a_hat \n",
    "print(f'private beta: {round(b_hat,2)} with sd: {np.std(b)}')\n",
    "print(f'private alpha: {round(a_hat,2)} with sd: {np.std(a)}')\n",
    "b_hat = sum((x-x.mean())*(y-y.mean()))/sum((x-x.mean())**2)\n",
    "a_hat = y.mean() - b_hat*x.mean()\n",
    "print(f'`true` beta: {round(b_hat,2)}')\n",
    "print(f'`true` alpha: {round(a_hat,2)}')"
   ]
  },
  {
   "cell_type": "code",
   "execution_count": 18,
   "metadata": {},
   "outputs": [
    {
     "name": "stdout",
     "output_type": "stream",
     "text": [
      "beta: 1153.3546206290018 with sd: 260.4937937831631\n",
      "alpha: -2122.4210251790846 with sd: 11923.126886969232\n",
      "`true` beta: 1146.96\n",
      "`true` alpha: -1776.36\n"
     ]
    }
   ],
   "source": [
    "eps = 10\n",
    "df_x = 25\n",
    "df_y = 100000\n",
    "dF_cvar = dF_x * df_y\n",
    "dF_xvar = dF_x**2\n",
    "\n",
    "b, a = [], []\n",
    "np.random.seed(1)\n",
    "for _ in range(100):\n",
    "    x_prv = x + npr.laplace(0,1,size=N)*(dF_x/(eps/4))\n",
    "    y_prv = y + npr.laplace(0,1,size=N)*(dF_y/(eps/4))\n",
    "    y_prv = np.clip(y_prv, 0, 100000)\n",
    "    x_ = x_prv.mean()\n",
    "    y_ = y_prv.mean()\n",
    "    cvar = (x-x_)*(y-y_)\n",
    "    xvar = (x-x_)**2\n",
    "    cvar_prv = cvar + npr.laplace(0,1,size=N)*(dF_cvar/(eps/4))\n",
    "    xvar_prv = xvar + npr.laplace(0,1,size=N)*(dF_xvar/(eps/4))\n",
    "    b_hat = sum(cvar_prv)/sum(xvar_prv)\n",
    "    a_hat = y_prv.mean() - b_hat*x_prv.mean()\n",
    "    b.append(b_hat)\n",
    "    a.append(a_hat)\n",
    "\n",
    "b_hat = np.mean(b)\n",
    "a_hat = np.mean(a)\n",
    "print(f'beta: {b_hat} with sd: {np.std(b)}')\n",
    "print(f'alpha: {a_hat} with sd: {np.std(a)}')\n",
    "print(f'`true` beta: 1146.96')\n",
    "print(f'`true` alpha: -1776.36')"
   ]
  },
  {
   "cell_type": "markdown",
   "metadata": {},
   "source": [
    "With more privacy budget, we can observe two things:\n",
    "a) When adding direct noise prior to the estimation (case 1), most of the noise still ends up in the intercept $\\alpha$ and artifically surpresses a directional effect through $\\beta$. This only slowly dissipates, ie with an almost not privatized data set such as $\\epsilon = 100$, the estimates approach the true values.\n",
    "\n",
    "b) Adding the noise to the (co-)variances (case 2), adding privacy budget translates directly into proportionally better estimates. It does not seem to prefer either intercept or slope right off the bat and seems to be the prefered method, when using regression on privatized data.\n",
    "The primary benefit seems to be less precision."
   ]
  }
 ],
 "metadata": {
  "kernelspec": {
   "display_name": "Python 3",
   "language": "python",
   "name": "python3"
  },
  "language_info": {
   "codemirror_mode": {
    "name": "ipython",
    "version": 3
   },
   "file_extension": ".py",
   "mimetype": "text/x-python",
   "name": "python",
   "nbconvert_exporter": "python",
   "pygments_lexer": "ipython3",
   "version": "3.6.9"
  }
 },
 "nbformat": 4,
 "nbformat_minor": 2
}
